{
  "cells": [
    {
      "cell_type": "markdown",
      "metadata": {
        "id": "view-in-github",
        "colab_type": "text"
      },
      "source": [
        "<a href=\"https://colab.research.google.com/github/Reyhan-Code/identifikasiJamur/blob/main/PendeteksiJamur.ipynb\" target=\"_parent\"><img src=\"https://colab.research.google.com/assets/colab-badge.svg\" alt=\"Open In Colab\"/></a>"
      ]
    },
    {
      "cell_type": "code",
      "execution_count": 1,
      "metadata": {
        "id": "-v0NVEZQ1nqp"
      },
      "outputs": [],
      "source": [
        "import os\n",
        "import pandas as pd\n",
        "import zipfile\n",
        "import gdown\n",
        "import numpy as np\n",
        "import tensorflow as tf\n",
        "from tensorflow.keras.applications import MobileNetV2\n",
        "from tensorflow.keras import layers, models\n",
        "from tensorflow.keras.optimizers import Adam\n",
        "from sklearn.preprocessing import LabelBinarizer\n",
        "from tensorflow.keras.utils import to_categorical\n",
        "from keras.preprocessing import image\n",
        "import matplotlib.pyplot as plt\n",
        "from sklearn.metrics import classification_report, confusion_matrix, accuracy_score\n",
        "import seaborn as sns\n",
        "# from google.colab import drive\n",
        "from PIL import Image"
      ]
    },
    {
      "cell_type": "code",
      "source": [
        "# Ganti dengan ID file Anda\n",
        "file_id = '1HMMFWYSpr6gS9qDb5SzkPNs6AOmhYZb9'\n",
        "url = f'https://drive.google.com/uc?id={file_id}'\n",
        "\n",
        "# Lokasi tempat menyimpan file zip yang diunduh\n",
        "zip_path = '/content/dataset_jamur.zip'\n",
        "\n",
        "# Mengunduh file\n",
        "gdown.download(url, zip_path, quiet=False)\n",
        "\n",
        "# Ekstrak file\n",
        "with zipfile.ZipFile(zip_path, 'r') as zip_ref:\n",
        "    zip_ref.extractall('/content/my_folder')"
      ],
      "metadata": {
        "colab": {
          "base_uri": "https://localhost:8080/"
        },
        "id": "M0CnyItiB2NM",
        "outputId": "b168a389-7d7b-44fd-96c2-d4a3cf61ef78"
      },
      "execution_count": 2,
      "outputs": [
        {
          "output_type": "stream",
          "name": "stderr",
          "text": [
            "Downloading...\n",
            "From (original): https://drive.google.com/uc?id=1HMMFWYSpr6gS9qDb5SzkPNs6AOmhYZb9\n",
            "From (redirected): https://drive.google.com/uc?id=1HMMFWYSpr6gS9qDb5SzkPNs6AOmhYZb9&confirm=t&uuid=99418e40-0afd-4649-90bf-1b60c14bdbe5\n",
            "To: /content/dataset_jamur.zip\n",
            "100%|██████████| 242M/242M [00:03<00:00, 74.9MB/s]\n"
          ]
        }
      ]
    },
    {
      "cell_type": "code",
      "execution_count": 12,
      "metadata": {
        "id": "4s9KN-sY1ste"
      },
      "outputs": [],
      "source": [
        "# Update base_dir\n",
        "base_dir = '/content/my_folder/Dataset_Jamur' # Adjust to the new extraction path\n",
        "train_dir = os.path.join(base_dir, 'train')\n",
        "validation_dir = os.path.join(base_dir, 'validation')"
      ]
    },
    {
      "cell_type": "code",
      "execution_count": 13,
      "metadata": {
        "id": "-Oxnl66l1w7D"
      },
      "outputs": [],
      "source": [
        "def load_images_from_directory(directory, width, height):\n",
        "    image_data = []\n",
        "    image_target = []\n",
        "    classes = os.listdir(directory)\n",
        "    for title in classes:\n",
        "        class_dir = os.path.join(directory, title)\n",
        "        if os.path.isdir(class_dir):\n",
        "            for img_name in os.listdir(class_dir):\n",
        "                img_path = os.path.join(class_dir, img_name)\n",
        "                try:\n",
        "                    with Image.open(img_path) as img:\n",
        "                        img = img.convert(\"RGB\")\n",
        "                        img = img.resize((width, height))\n",
        "                        img_array = np.array(img)\n",
        "                        image_data.append(img_array)\n",
        "                        image_target.append(title)\n",
        "                except Exception as e:\n",
        "                    print(f\"Error loading image {img_path}: {e}\")\n",
        "    return np.array(image_data), np.array(image_target)\n",
        "\n",
        "# def load_images_from_directory(directory, width, height):\n",
        "#     image_data = []\n",
        "#     image_target = []\n",
        "#     classes = os.listdir(directory)\n",
        "#     for title in classes:\n",
        "#         class_dir = os.path.join(directory, title)\n",
        "#         if os.path.isdir(class_dir):\n",
        "#             for img_name in os.listdir(class_dir):\n",
        "#                 img_path = os.path.join(class_dir, img_name)\n",
        "#                 img = cv2.imread(img_path)\n",
        "#                 if img is not None:\n",
        "#                     if img.shape[-1] == 1:\n",
        "#                         img = cv2.cvtColor(img, cv2.COLOR_GRAY2RGB)\n",
        "#                     else:\n",
        "#                         img = cv2.cvtColor(img, cv2.COLOR_BGR2RGB)\n",
        "#                     img = cv2.resize(img, (width, height))\n",
        "#                     image_data.append(img)\n",
        "#                     image_target.append(title)\n",
        "#     return np.array(image_data), np.array(image_target)\n"
      ]
    },
    {
      "cell_type": "code",
      "execution_count": 14,
      "metadata": {
        "id": "QOOt8pqE1zhG",
        "colab": {
          "base_uri": "https://localhost:8080/"
        },
        "outputId": "bb44512d-3bac-4b78-bedc-acd8454bc697"
      },
      "outputs": [
        {
          "output_type": "stream",
          "name": "stderr",
          "text": [
            "/usr/local/lib/python3.10/dist-packages/PIL/Image.py:1054: UserWarning: Palette images with Transparency expressed in bytes should be converted to RGBA images\n",
            "  warnings.warn(\n"
          ]
        }
      ],
      "source": [
        "train_images, train_labels = load_images_from_directory(train_dir, 224, 224)\n",
        "validation_images, validation_labels = load_images_from_directory(validation_dir, 224, 224)\n",
        "\n",
        "train_images = train_images.astype('float32') / 255.0\n",
        "validation_images = validation_images.astype('float32') / 255.0\n",
        "\n",
        "lb = LabelBinarizer()\n",
        "train_labels = lb.fit_transform(train_labels)\n",
        "validation_labels = lb.transform(validation_labels)"
      ]
    },
    {
      "cell_type": "code",
      "execution_count": 15,
      "metadata": {
        "id": "8SPWzF2tKP2C",
        "colab": {
          "base_uri": "https://localhost:8080/"
        },
        "outputId": "363b317d-e721-447f-efa6-2aeb6126a794"
      },
      "outputs": [
        {
          "output_type": "stream",
          "name": "stdout",
          "text": [
            "Downloading data from https://storage.googleapis.com/tensorflow/keras-applications/mobilenet_v2/mobilenet_v2_weights_tf_dim_ordering_tf_kernels_1.0_224_no_top.h5\n",
            "\u001b[1m9406464/9406464\u001b[0m \u001b[32m━━━━━━━━━━━━━━━━━━━━\u001b[0m\u001b[37m\u001b[0m \u001b[1m0s\u001b[0m 0us/step\n"
          ]
        }
      ],
      "source": [
        "base_model = MobileNetV2(weights='imagenet', include_top=False, input_shape=(224, 224, 3))\n",
        "\n",
        "model = models.Sequential()\n",
        "model.add(base_model)\n",
        "model.add(layers.GlobalAveragePooling2D())\n",
        "model.add(layers.BatchNormalization())\n",
        "model.add(layers.Dense(128, activation='relu'))\n",
        "model.add(layers.Dropout(0.5))\n",
        "model.add(layers.BatchNormalization())\n",
        "model.add(layers.Dense(len(lb.classes_), activation='softmax'))\n",
        "\n",
        "for layer in base_model.layers:\n",
        "    layer.trainable = False"
      ]
    },
    {
      "cell_type": "code",
      "execution_count": 16,
      "metadata": {
        "colab": {
          "base_uri": "https://localhost:8080/"
        },
        "id": "8XPvGhTAKjwl",
        "outputId": "c7a3e4d4-645b-4436-c88b-f8dbee96f118"
      },
      "outputs": [
        {
          "output_type": "stream",
          "name": "stdout",
          "text": [
            "Epoch 1/50\n",
            "\u001b[1m50/50\u001b[0m \u001b[32m━━━━━━━━━━━━━━━━━━━━\u001b[0m\u001b[37m\u001b[0m \u001b[1m103s\u001b[0m 2s/step - accuracy: 0.1363 - loss: 2.9066 - val_accuracy: 0.2800 - val_loss: 1.9583\n",
            "Epoch 2/50\n",
            "\u001b[1m50/50\u001b[0m \u001b[32m━━━━━━━━━━━━━━━━━━━━\u001b[0m\u001b[37m\u001b[0m \u001b[1m139s\u001b[0m 2s/step - accuracy: 0.3388 - loss: 1.9695 - val_accuracy: 0.5600 - val_loss: 1.4820\n",
            "Epoch 3/50\n",
            "\u001b[1m50/50\u001b[0m \u001b[32m━━━━━━━━━━━━━━━━━━━━\u001b[0m\u001b[37m\u001b[0m \u001b[1m147s\u001b[0m 2s/step - accuracy: 0.4719 - loss: 1.5653 - val_accuracy: 0.6775 - val_loss: 1.2058\n",
            "Epoch 4/50\n",
            "\u001b[1m50/50\u001b[0m \u001b[32m━━━━━━━━━━━━━━━━━━━━\u001b[0m\u001b[37m\u001b[0m \u001b[1m96s\u001b[0m 2s/step - accuracy: 0.5783 - loss: 1.2821 - val_accuracy: 0.7275 - val_loss: 1.0258\n",
            "Epoch 5/50\n",
            "\u001b[1m50/50\u001b[0m \u001b[32m━━━━━━━━━━━━━━━━━━━━\u001b[0m\u001b[37m\u001b[0m \u001b[1m98s\u001b[0m 2s/step - accuracy: 0.6321 - loss: 1.1576 - val_accuracy: 0.7550 - val_loss: 0.9130\n",
            "Epoch 6/50\n",
            "\u001b[1m50/50\u001b[0m \u001b[32m━━━━━━━━━━━━━━━━━━━━\u001b[0m\u001b[37m\u001b[0m \u001b[1m171s\u001b[0m 3s/step - accuracy: 0.6882 - loss: 0.9833 - val_accuracy: 0.7700 - val_loss: 0.8384\n",
            "Epoch 7/50\n",
            "\u001b[1m50/50\u001b[0m \u001b[32m━━━━━━━━━━━━━━━━━━━━\u001b[0m\u001b[37m\u001b[0m \u001b[1m112s\u001b[0m 2s/step - accuracy: 0.7075 - loss: 0.9265 - val_accuracy: 0.7825 - val_loss: 0.7820\n",
            "Epoch 8/50\n",
            "\u001b[1m50/50\u001b[0m \u001b[32m━━━━━━━━━━━━━━━━━━━━\u001b[0m\u001b[37m\u001b[0m \u001b[1m94s\u001b[0m 2s/step - accuracy: 0.7573 - loss: 0.7890 - val_accuracy: 0.7875 - val_loss: 0.7394\n",
            "Epoch 9/50\n",
            "\u001b[1m50/50\u001b[0m \u001b[32m━━━━━━━━━━━━━━━━━━━━\u001b[0m\u001b[37m\u001b[0m \u001b[1m95s\u001b[0m 2s/step - accuracy: 0.7722 - loss: 0.7184 - val_accuracy: 0.8025 - val_loss: 0.7081\n",
            "Epoch 10/50\n",
            "\u001b[1m50/50\u001b[0m \u001b[32m━━━━━━━━━━━━━━━━━━━━\u001b[0m\u001b[37m\u001b[0m \u001b[1m146s\u001b[0m 2s/step - accuracy: 0.7788 - loss: 0.7041 - val_accuracy: 0.8075 - val_loss: 0.6832\n",
            "Epoch 11/50\n",
            "\u001b[1m50/50\u001b[0m \u001b[32m━━━━━━━━━━━━━━━━━━━━\u001b[0m\u001b[37m\u001b[0m \u001b[1m143s\u001b[0m 2s/step - accuracy: 0.8219 - loss: 0.6045 - val_accuracy: 0.8200 - val_loss: 0.6608\n",
            "Epoch 12/50\n",
            "\u001b[1m50/50\u001b[0m \u001b[32m━━━━━━━━━━━━━━━━━━━━\u001b[0m\u001b[37m\u001b[0m \u001b[1m137s\u001b[0m 2s/step - accuracy: 0.8203 - loss: 0.5821 - val_accuracy: 0.8275 - val_loss: 0.6420\n",
            "Epoch 13/50\n",
            "\u001b[1m50/50\u001b[0m \u001b[32m━━━━━━━━━━━━━━━━━━━━\u001b[0m\u001b[37m\u001b[0m \u001b[1m144s\u001b[0m 2s/step - accuracy: 0.8534 - loss: 0.5129 - val_accuracy: 0.8325 - val_loss: 0.6263\n",
            "Epoch 14/50\n",
            "\u001b[1m50/50\u001b[0m \u001b[32m━━━━━━━━━━━━━━━━━━━━\u001b[0m\u001b[37m\u001b[0m \u001b[1m163s\u001b[0m 2s/step - accuracy: 0.8633 - loss: 0.5047 - val_accuracy: 0.8425 - val_loss: 0.6115\n",
            "Epoch 15/50\n",
            "\u001b[1m50/50\u001b[0m \u001b[32m━━━━━━━━━━━━━━━━━━━━\u001b[0m\u001b[37m\u001b[0m \u001b[1m124s\u001b[0m 2s/step - accuracy: 0.8551 - loss: 0.4910 - val_accuracy: 0.8425 - val_loss: 0.5981\n",
            "Epoch 16/50\n",
            "\u001b[1m50/50\u001b[0m \u001b[32m━━━━━━━━━━━━━━━━━━━━\u001b[0m\u001b[37m\u001b[0m \u001b[1m138s\u001b[0m 2s/step - accuracy: 0.8818 - loss: 0.4540 - val_accuracy: 0.8425 - val_loss: 0.5869\n",
            "Epoch 17/50\n",
            "\u001b[1m50/50\u001b[0m \u001b[32m━━━━━━━━━━━━━━━━━━━━\u001b[0m\u001b[37m\u001b[0m \u001b[1m146s\u001b[0m 2s/step - accuracy: 0.8912 - loss: 0.4178 - val_accuracy: 0.8400 - val_loss: 0.5812\n",
            "Epoch 18/50\n",
            "\u001b[1m50/50\u001b[0m \u001b[32m━━━━━━━━━━━━━━━━━━━━\u001b[0m\u001b[37m\u001b[0m \u001b[1m133s\u001b[0m 2s/step - accuracy: 0.8978 - loss: 0.3946 - val_accuracy: 0.8400 - val_loss: 0.5717\n",
            "Epoch 19/50\n",
            "\u001b[1m50/50\u001b[0m \u001b[32m━━━━━━━━━━━━━━━━━━━━\u001b[0m\u001b[37m\u001b[0m \u001b[1m98s\u001b[0m 2s/step - accuracy: 0.9029 - loss: 0.3756 - val_accuracy: 0.8450 - val_loss: 0.5639\n",
            "Epoch 20/50\n",
            "\u001b[1m50/50\u001b[0m \u001b[32m━━━━━━━━━━━━━━━━━━━━\u001b[0m\u001b[37m\u001b[0m \u001b[1m97s\u001b[0m 2s/step - accuracy: 0.8985 - loss: 0.3544 - val_accuracy: 0.8475 - val_loss: 0.5550\n",
            "Epoch 21/50\n",
            "\u001b[1m50/50\u001b[0m \u001b[32m━━━━━━━━━━━━━━━━━━━━\u001b[0m\u001b[37m\u001b[0m \u001b[1m96s\u001b[0m 2s/step - accuracy: 0.9096 - loss: 0.3621 - val_accuracy: 0.8500 - val_loss: 0.5496\n",
            "Epoch 22/50\n",
            "\u001b[1m50/50\u001b[0m \u001b[32m━━━━━━━━━━━━━━━━━━━━\u001b[0m\u001b[37m\u001b[0m \u001b[1m139s\u001b[0m 2s/step - accuracy: 0.9083 - loss: 0.3314 - val_accuracy: 0.8500 - val_loss: 0.5406\n",
            "Epoch 23/50\n",
            "\u001b[1m50/50\u001b[0m \u001b[32m━━━━━━━━━━━━━━━━━━━━\u001b[0m\u001b[37m\u001b[0m \u001b[1m92s\u001b[0m 2s/step - accuracy: 0.9101 - loss: 0.3449 - val_accuracy: 0.8475 - val_loss: 0.5300\n",
            "Epoch 24/50\n",
            "\u001b[1m50/50\u001b[0m \u001b[32m━━━━━━━━━━━━━━━━━━━━\u001b[0m\u001b[37m\u001b[0m \u001b[1m169s\u001b[0m 2s/step - accuracy: 0.9284 - loss: 0.3164 - val_accuracy: 0.8575 - val_loss: 0.5202\n",
            "Epoch 25/50\n",
            "\u001b[1m50/50\u001b[0m \u001b[32m━━━━━━━━━━━━━━━━━━━━\u001b[0m\u001b[37m\u001b[0m \u001b[1m123s\u001b[0m 2s/step - accuracy: 0.9118 - loss: 0.3135 - val_accuracy: 0.8525 - val_loss: 0.5181\n",
            "Epoch 26/50\n",
            "\u001b[1m50/50\u001b[0m \u001b[32m━━━━━━━━━━━━━━━━━━━━\u001b[0m\u001b[37m\u001b[0m \u001b[1m98s\u001b[0m 2s/step - accuracy: 0.9429 - loss: 0.2795 - val_accuracy: 0.8550 - val_loss: 0.5168\n",
            "Epoch 27/50\n",
            "\u001b[1m50/50\u001b[0m \u001b[32m━━━━━━━━━━━━━━━━━━━━\u001b[0m\u001b[37m\u001b[0m \u001b[1m141s\u001b[0m 2s/step - accuracy: 0.9410 - loss: 0.2599 - val_accuracy: 0.8600 - val_loss: 0.5068\n",
            "Epoch 28/50\n",
            "\u001b[1m50/50\u001b[0m \u001b[32m━━━━━━━━━━━━━━━━━━━━\u001b[0m\u001b[37m\u001b[0m \u001b[1m140s\u001b[0m 2s/step - accuracy: 0.9489 - loss: 0.2479 - val_accuracy: 0.8625 - val_loss: 0.5019\n",
            "Epoch 29/50\n",
            "\u001b[1m50/50\u001b[0m \u001b[32m━━━━━━━━━━━━━━━━━━━━\u001b[0m\u001b[37m\u001b[0m \u001b[1m92s\u001b[0m 2s/step - accuracy: 0.9520 - loss: 0.2332 - val_accuracy: 0.8650 - val_loss: 0.4961\n",
            "Epoch 30/50\n",
            "\u001b[1m50/50\u001b[0m \u001b[32m━━━━━━━━━━━━━━━━━━━━\u001b[0m\u001b[37m\u001b[0m \u001b[1m150s\u001b[0m 2s/step - accuracy: 0.9539 - loss: 0.2287 - val_accuracy: 0.8650 - val_loss: 0.4918\n",
            "Epoch 31/50\n",
            "\u001b[1m50/50\u001b[0m \u001b[32m━━━━━━━━━━━━━━━━━━━━\u001b[0m\u001b[37m\u001b[0m \u001b[1m96s\u001b[0m 2s/step - accuracy: 0.9481 - loss: 0.2149 - val_accuracy: 0.8625 - val_loss: 0.4875\n",
            "Epoch 32/50\n",
            "\u001b[1m50/50\u001b[0m \u001b[32m━━━━━━━━━━━━━━━━━━━━\u001b[0m\u001b[37m\u001b[0m \u001b[1m141s\u001b[0m 2s/step - accuracy: 0.9474 - loss: 0.2392 - val_accuracy: 0.8650 - val_loss: 0.4860\n",
            "Epoch 33/50\n",
            "\u001b[1m50/50\u001b[0m \u001b[32m━━━━━━━━━━━━━━━━━━━━\u001b[0m\u001b[37m\u001b[0m \u001b[1m141s\u001b[0m 2s/step - accuracy: 0.9506 - loss: 0.2279 - val_accuracy: 0.8650 - val_loss: 0.4777\n",
            "Epoch 34/50\n",
            "\u001b[1m50/50\u001b[0m \u001b[32m━━━━━━━━━━━━━━━━━━━━\u001b[0m\u001b[37m\u001b[0m \u001b[1m164s\u001b[0m 2s/step - accuracy: 0.9573 - loss: 0.2092 - val_accuracy: 0.8650 - val_loss: 0.4802\n",
            "Epoch 35/50\n",
            "\u001b[1m50/50\u001b[0m \u001b[32m━━━━━━━━━━━━━━━━━━━━\u001b[0m\u001b[37m\u001b[0m \u001b[1m121s\u001b[0m 2s/step - accuracy: 0.9644 - loss: 0.1990 - val_accuracy: 0.8700 - val_loss: 0.4786\n",
            "Epoch 36/50\n",
            "\u001b[1m50/50\u001b[0m \u001b[32m━━━━━━━━━━━━━━━━━━━━\u001b[0m\u001b[37m\u001b[0m \u001b[1m139s\u001b[0m 2s/step - accuracy: 0.9680 - loss: 0.1877 - val_accuracy: 0.8700 - val_loss: 0.4761\n",
            "Epoch 37/50\n",
            "\u001b[1m50/50\u001b[0m \u001b[32m━━━━━━━━━━━━━━━━━━━━\u001b[0m\u001b[37m\u001b[0m \u001b[1m148s\u001b[0m 2s/step - accuracy: 0.9789 - loss: 0.1693 - val_accuracy: 0.8725 - val_loss: 0.4703\n",
            "Epoch 38/50\n",
            "\u001b[1m50/50\u001b[0m \u001b[32m━━━━━━━━━━━━━━━━━━━━\u001b[0m\u001b[37m\u001b[0m \u001b[1m96s\u001b[0m 2s/step - accuracy: 0.9640 - loss: 0.1910 - val_accuracy: 0.8725 - val_loss: 0.4664\n",
            "Epoch 39/50\n",
            "\u001b[1m50/50\u001b[0m \u001b[32m━━━━━━━━━━━━━━━━━━━━\u001b[0m\u001b[37m\u001b[0m \u001b[1m93s\u001b[0m 2s/step - accuracy: 0.9583 - loss: 0.1899 - val_accuracy: 0.8700 - val_loss: 0.4677\n",
            "Epoch 40/50\n",
            "\u001b[1m50/50\u001b[0m \u001b[32m━━━━━━━━━━━━━━━━━━━━\u001b[0m\u001b[37m\u001b[0m \u001b[1m147s\u001b[0m 2s/step - accuracy: 0.9756 - loss: 0.1661 - val_accuracy: 0.8725 - val_loss: 0.4626\n",
            "Epoch 41/50\n",
            "\u001b[1m50/50\u001b[0m \u001b[32m━━━━━━━━━━━━━━━━━━━━\u001b[0m\u001b[37m\u001b[0m \u001b[1m142s\u001b[0m 2s/step - accuracy: 0.9722 - loss: 0.1757 - val_accuracy: 0.8675 - val_loss: 0.4567\n",
            "Epoch 42/50\n",
            "\u001b[1m50/50\u001b[0m \u001b[32m━━━━━━━━━━━━━━━━━━━━\u001b[0m\u001b[37m\u001b[0m \u001b[1m135s\u001b[0m 2s/step - accuracy: 0.9738 - loss: 0.1516 - val_accuracy: 0.8700 - val_loss: 0.4543\n",
            "Epoch 43/50\n",
            "\u001b[1m50/50\u001b[0m \u001b[32m━━━━━━━━━━━━━━━━━━━━\u001b[0m\u001b[37m\u001b[0m \u001b[1m147s\u001b[0m 2s/step - accuracy: 0.9635 - loss: 0.1721 - val_accuracy: 0.8725 - val_loss: 0.4564\n",
            "Epoch 44/50\n",
            "\u001b[1m50/50\u001b[0m \u001b[32m━━━━━━━━━━━━━━━━━━━━\u001b[0m\u001b[37m\u001b[0m \u001b[1m144s\u001b[0m 2s/step - accuracy: 0.9764 - loss: 0.1501 - val_accuracy: 0.8750 - val_loss: 0.4582\n",
            "Epoch 45/50\n",
            "\u001b[1m50/50\u001b[0m \u001b[32m━━━━━━━━━━━━━━━━━━━━\u001b[0m\u001b[37m\u001b[0m \u001b[1m142s\u001b[0m 2s/step - accuracy: 0.9814 - loss: 0.1405 - val_accuracy: 0.8725 - val_loss: 0.4618\n",
            "Epoch 46/50\n",
            "\u001b[1m50/50\u001b[0m \u001b[32m━━━━━━━━━━━━━━━━━━━━\u001b[0m\u001b[37m\u001b[0m \u001b[1m145s\u001b[0m 2s/step - accuracy: 0.9750 - loss: 0.1430 - val_accuracy: 0.8750 - val_loss: 0.4552\n",
            "Epoch 47/50\n",
            "\u001b[1m50/50\u001b[0m \u001b[32m━━━━━━━━━━━━━━━━━━━━\u001b[0m\u001b[37m\u001b[0m \u001b[1m162s\u001b[0m 2s/step - accuracy: 0.9832 - loss: 0.1329 - val_accuracy: 0.8800 - val_loss: 0.4527\n",
            "Epoch 48/50\n",
            "\u001b[1m50/50\u001b[0m \u001b[32m━━━━━━━━━━━━━━━━━━━━\u001b[0m\u001b[37m\u001b[0m \u001b[1m121s\u001b[0m 2s/step - accuracy: 0.9746 - loss: 0.1379 - val_accuracy: 0.8775 - val_loss: 0.4546\n",
            "Epoch 49/50\n",
            "\u001b[1m50/50\u001b[0m \u001b[32m━━━━━━━━━━━━━━━━━━━━\u001b[0m\u001b[37m\u001b[0m \u001b[1m136s\u001b[0m 2s/step - accuracy: 0.9780 - loss: 0.1277 - val_accuracy: 0.8775 - val_loss: 0.4540\n",
            "Epoch 50/50\n",
            "\u001b[1m50/50\u001b[0m \u001b[32m━━━━━━━━━━━━━━━━━━━━\u001b[0m\u001b[37m\u001b[0m \u001b[1m139s\u001b[0m 2s/step - accuracy: 0.9706 - loss: 0.1375 - val_accuracy: 0.8725 - val_loss: 0.4509\n"
          ]
        }
      ],
      "source": [
        "# model.compile(optimizer=Adam(learning_rate=1e-4), loss='categorical_crossentropy', metrics=['accuracy'])\n",
        "\n",
        "model.compile(optimizer=Adam(learning_rate=0.0001), loss='categorical_crossentropy', metrics=['accuracy'])\n",
        "\n",
        "history = model.fit(\n",
        "    train_images, train_labels,\n",
        "    epochs=50,\n",
        "    batch_size=32,\n",
        "    validation_data=(validation_images, validation_labels)\n",
        ")"
      ]
    },
    {
      "cell_type": "code",
      "execution_count": 17,
      "metadata": {
        "colab": {
          "base_uri": "https://localhost:8080/",
          "height": 887
        },
        "id": "Aguez4MRKosh",
        "outputId": "f47e3a8d-8bc3-4de3-ac25-76f9f46b7ca4"
      },
      "outputs": [
        {
          "output_type": "display_data",
          "data": {
            "text/plain": [
              "<Figure size 640x480 with 1 Axes>"
            ],
            "image/png": "[encoded data removed]"
          },
          "metadata": {}
        },
        {
          "output_type": "display_data",
          "data": {
            "text/plain": [
              "<Figure size 640x480 with 1 Axes>"
            ],
            "image/png": "[encoded data removed]"
          },
          "metadata": {}
        }
      ],
      "source": [
        "import matplotlib.pyplot as plt\n",
        "\n",
        "plt.plot(history.history['accuracy'], label='accuracy')\n",
        "plt.plot(history.history['val_accuracy'], label = 'val_accuracy')\n",
        "plt.xlabel('Epoch')\n",
        "plt.ylabel('Accuracy')\n",
        "plt.ylim([0, 1])\n",
        "plt.legend(loc='lower right')\n",
        "plt.show()\n",
        "\n",
        "plt.plot(history.history['loss'], label='loss')\n",
        "plt.plot(history.history['val_loss'], label='val_loss')\n",
        "plt.xlabel('Epoch')\n",
        "plt.ylabel('Loss')\n",
        "plt.legend(loc='upper right')\n",
        "plt.show()"
      ]
    },
    {
      "cell_type": "code",
      "execution_count": 18,
      "metadata": {
        "colab": {
          "base_uri": "https://localhost:8080/"
        },
        "id": "nxmt5jl9KrFv",
        "outputId": "6ea29de0-ee3d-44ed-82a0-a4336c0f8eef"
      },
      "outputs": [
        {
          "output_type": "stream",
          "name": "stdout",
          "text": [
            "['Schizophyllum commune', 'jamur Lentinus Squarrosulus', 'Coprinopsis lagopus', 'Jamur Merang', 'jamur kuping', 'Mycena leaiana', 'Leucoagaricus leucothites', 'Amanita phalloides', 'Jamur Barat', 'Jamur Tiram']\n",
            "['Schizophyllum commune', 'jamur Lentinus Squarrosulus', 'Coprinopsis lagopus', 'Jamur Merang', 'jamur kuping', 'Mycena leaiana', 'Leucoagaricus leucothites', 'Amanita phalloides', 'Jamur Barat', 'Jamur Tiram']\n"
          ]
        }
      ],
      "source": [
        "print(os.listdir(train_dir))\n",
        "print(os.listdir(validation_dir))"
      ]
    },
    {
      "cell_type": "code",
      "execution_count": 19,
      "metadata": {
        "id": "jRDvCN8gBd3i",
        "outputId": "71ec51b9-7600-4271-92cf-9b715450bbc4",
        "colab": {
          "base_uri": "https://localhost:8080/"
        }
      },
      "outputs": [
        {
          "output_type": "stream",
          "name": "stdout",
          "text": [
            "\u001b[1m13/13\u001b[0m \u001b[32m━━━━━━━━━━━━━━━━━━━━\u001b[0m\u001b[37m\u001b[0m \u001b[1m20s\u001b[0m 1s/step - accuracy: 0.8731 - loss: 0.4312\n",
            "Loss: 0.4509\n",
            "Accuracy: 87.25%\n",
            "\u001b[1m13/13\u001b[0m \u001b[32m━━━━━━━━━━━━━━━━━━━━\u001b[0m\u001b[37m\u001b[0m \u001b[1m23s\u001b[0m 2s/step\n",
            "Validation Accuracy: 87.25%\n",
            "Confusion Matrix:\n",
            "[[36  0  0  0  0  3  0  0  1  0]\n",
            " [ 0 37  0  0  0  0  0  2  0  1]\n",
            " [ 3  4 30  2  0  0  0  0  1  0]\n",
            " [ 4  3  0 20  4  0  1  0  5  3]\n",
            " [ 0  0  0  1 36  0  0  1  1  1]\n",
            " [ 0  0  0  0  1 39  0  0  0  0]\n",
            " [ 0  0  0  0  0  0 39  0  1  0]\n",
            " [ 0  0  0  0  0  0  0 36  4  0]\n",
            " [ 0  2  0  0  1  1  0  0 36  0]\n",
            " [ 0  0  0  0  0  0  0  0  0 40]]\n",
            "Classification Report:\n",
            "              precision    recall  f1-score   support\n",
            "\n",
            "           0       0.84      0.90      0.87        40\n",
            "           1       0.80      0.93      0.86        40\n",
            "           2       1.00      0.75      0.86        40\n",
            "           3       0.87      0.50      0.63        40\n",
            "           4       0.86      0.90      0.88        40\n",
            "           5       0.91      0.97      0.94        40\n",
            "           6       0.97      0.97      0.97        40\n",
            "           7       0.92      0.90      0.91        40\n",
            "           8       0.73      0.90      0.81        40\n",
            "           9       0.89      1.00      0.94        40\n",
            "\n",
            "    accuracy                           0.87       400\n",
            "   macro avg       0.88      0.87      0.87       400\n",
            "weighted avg       0.88      0.87      0.87       400\n",
            "\n"
          ]
        }
      ],
      "source": [
        "# Evaluate the model\n",
        "loss, accuracy = model.evaluate(validation_images, validation_labels)\n",
        "print(f'Loss: {loss:.4f}')\n",
        "print(f'Accuracy: {accuracy * 100:.2f}%')\n",
        "\n",
        "# Predict classes\n",
        "y_pred = np.argmax(model.predict(validation_images), axis=1)\n",
        "y_true = np.argmax(validation_labels, axis=1)\n",
        "\n",
        "# Calculate validation accuracy\n",
        "val_accuracy = accuracy_score(y_true, y_pred)\n",
        "print(f'Validation Accuracy: {val_accuracy * 100:.2f}%')\n",
        "\n",
        "# Print confusion matrix and classification report\n",
        "print('Confusion Matrix:')\n",
        "print(confusion_matrix(y_true, y_pred))\n",
        "print('Classification Report:')\n",
        "print(classification_report(y_true, y_pred))"
      ]
    },
    {
      "cell_type": "code",
      "execution_count": 23,
      "metadata": {
        "id": "Oz9FDG0nBd3j",
        "colab": {
          "base_uri": "https://localhost:8080/"
        },
        "outputId": "ff88fd4f-87bf-4093-afc5-3d5b41ec36ec"
      },
      "outputs": [
        {
          "output_type": "stream",
          "name": "stderr",
          "text": [
            "WARNING:absl:You are saving your model as an HDF5 file via `model.save()` or `keras.saving.save_model(model)`. This file format is considered legacy. We recommend using instead the native Keras format, e.g. `model.save('my_model.keras')` or `keras.saving.save_model(model, 'my_model.keras')`. \n"
          ]
        }
      ],
      "source": [
        "model.save('model.h5')"
      ]
    },
    {
      "cell_type": "code",
      "execution_count": 24,
      "metadata": {
        "id": "G0mediIZBd3j",
        "outputId": "0c04fcb1-0b8f-4530-a34f-b046762b4302",
        "colab": {
          "base_uri": "https://localhost:8080/"
        }
      },
      "outputs": [
        {
          "output_type": "stream",
          "name": "stdout",
          "text": [
            "Saved artifact at '/tmp/tmp0cj_qr72'. The following endpoints are available:\n",
            "\n",
            "* Endpoint 'serve'\n",
            "  args_0 (POSITIONAL_ONLY): TensorSpec(shape=(None, 224, 224, 3), dtype=tf.float32, name='keras_tensor_154')\n",
            "Output Type:\n",
            "  TensorSpec(shape=(None, 10), dtype=tf.float32, name=None)\n",
            "Captures:\n",
            "  133551093938336: TensorSpec(shape=(), dtype=tf.resource, name=None)\n",
            "  133551093935520: TensorSpec(shape=(), dtype=tf.resource, name=None)\n",
            "  133551093932880: TensorSpec(shape=(), dtype=tf.resource, name=None)\n",
            "  133551093935168: TensorSpec(shape=(), dtype=tf.resource, name=None)\n",
            "  133551093937456: TensorSpec(shape=(), dtype=tf.resource, name=None)\n",
            "  133551093936048: TensorSpec(shape=(), dtype=tf.resource, name=None)\n",
            "  133551092798688: TensorSpec(shape=(), dtype=tf.resource, name=None)\n",
            "  133551092799744: TensorSpec(shape=(), dtype=tf.resource, name=None)\n",
            "  133551092795872: TensorSpec(shape=(), dtype=tf.resource, name=None)\n",
            "  133551092798512: TensorSpec(shape=(), dtype=tf.resource, name=None)\n",
            "  133551094758416: TensorSpec(shape=(), dtype=tf.resource, name=None)\n",
            "  133551092804848: TensorSpec(shape=(), dtype=tf.resource, name=None)\n",
            "  133551092807312: TensorSpec(shape=(), dtype=tf.resource, name=None)\n",
            "  133551092803440: TensorSpec(shape=(), dtype=tf.resource, name=None)\n",
            "  133551092806080: TensorSpec(shape=(), dtype=tf.resource, name=None)\n",
            "  133551092808896: TensorSpec(shape=(), dtype=tf.resource, name=None)\n",
            "  133551092812608: TensorSpec(shape=(), dtype=tf.resource, name=None)\n",
            "  133551092810672: TensorSpec(shape=(), dtype=tf.resource, name=None)\n",
            "  133551092813136: TensorSpec(shape=(), dtype=tf.resource, name=None)\n",
            "  133551092812784: TensorSpec(shape=(), dtype=tf.resource, name=None)\n",
            "  133551092820880: TensorSpec(shape=(), dtype=tf.resource, name=None)\n",
            "  133551092819824: TensorSpec(shape=(), dtype=tf.resource, name=None)\n",
            "  133551092822464: TensorSpec(shape=(), dtype=tf.resource, name=None)\n",
            "  133551092809968: TensorSpec(shape=(), dtype=tf.resource, name=None)\n",
            "  133551092820352: TensorSpec(shape=(), dtype=tf.resource, name=None)\n",
            "  133551092825456: TensorSpec(shape=(), dtype=tf.resource, name=None)\n",
            "  133551093189616: TensorSpec(shape=(), dtype=tf.resource, name=None)\n",
            "  133551093187680: TensorSpec(shape=(), dtype=tf.resource, name=None)\n",
            "  133551093190144: TensorSpec(shape=(), dtype=tf.resource, name=None)\n",
            "  133551093189792: TensorSpec(shape=(), dtype=tf.resource, name=None)\n",
            "  133551093933584: TensorSpec(shape=(), dtype=tf.resource, name=None)\n",
            "  133551093194368: TensorSpec(shape=(), dtype=tf.resource, name=None)\n",
            "  133551093196832: TensorSpec(shape=(), dtype=tf.resource, name=None)\n",
            "  133551093192960: TensorSpec(shape=(), dtype=tf.resource, name=None)\n",
            "  133551093195600: TensorSpec(shape=(), dtype=tf.resource, name=None)\n",
            "  133551093199648: TensorSpec(shape=(), dtype=tf.resource, name=None)\n",
            "  133551093199296: TensorSpec(shape=(), dtype=tf.resource, name=None)\n",
            "  133551093198944: TensorSpec(shape=(), dtype=tf.resource, name=None)\n",
            "  133551093200704: TensorSpec(shape=(), dtype=tf.resource, name=None)\n",
            "  133551093253040: TensorSpec(shape=(), dtype=tf.resource, name=None)\n",
            "  133551093198416: TensorSpec(shape=(), dtype=tf.resource, name=None)\n",
            "  133551093260256: TensorSpec(shape=(), dtype=tf.resource, name=None)\n",
            "  133551093261312: TensorSpec(shape=(), dtype=tf.resource, name=None)\n",
            "  133551093257440: TensorSpec(shape=(), dtype=tf.resource, name=None)\n",
            "  133551093260080: TensorSpec(shape=(), dtype=tf.resource, name=None)\n",
            "  133551092816656: TensorSpec(shape=(), dtype=tf.resource, name=None)\n",
            "  133551093266240: TensorSpec(shape=(), dtype=tf.resource, name=None)\n",
            "  133551093262720: TensorSpec(shape=(), dtype=tf.resource, name=None)\n",
            "  133551093264832: TensorSpec(shape=(), dtype=tf.resource, name=None)\n",
            "  133551093267472: TensorSpec(shape=(), dtype=tf.resource, name=None)\n",
            "  133551093265184: TensorSpec(shape=(), dtype=tf.resource, name=None)\n",
            "  133551093308000: TensorSpec(shape=(), dtype=tf.resource, name=None)\n",
            "  133551093310640: TensorSpec(shape=(), dtype=tf.resource, name=None)\n",
            "  133551093306592: TensorSpec(shape=(), dtype=tf.resource, name=None)\n",
            "  133551093308528: TensorSpec(shape=(), dtype=tf.resource, name=None)\n",
            "  133551093313632: TensorSpec(shape=(), dtype=tf.resource, name=None)\n",
            "  133551093389744: TensorSpec(shape=(), dtype=tf.resource, name=None)\n",
            "  133551093390448: TensorSpec(shape=(), dtype=tf.resource, name=None)\n",
            "  133551093386576: TensorSpec(shape=(), dtype=tf.resource, name=None)\n",
            "  133551093388864: TensorSpec(shape=(), dtype=tf.resource, name=None)\n",
            "  133551093395200: TensorSpec(shape=(), dtype=tf.resource, name=None)\n",
            "  133551093394144: TensorSpec(shape=(), dtype=tf.resource, name=None)\n",
            "  133551093396608: TensorSpec(shape=(), dtype=tf.resource, name=None)\n",
            "  133551093389392: TensorSpec(shape=(), dtype=tf.resource, name=None)\n",
            "  133551093395376: TensorSpec(shape=(), dtype=tf.resource, name=None)\n",
            "  133551093393088: TensorSpec(shape=(), dtype=tf.resource, name=None)\n",
            "  133551094181104: TensorSpec(shape=(), dtype=tf.resource, name=None)\n",
            "  133551120160496: TensorSpec(shape=(), dtype=tf.resource, name=None)\n",
            "  133553875386960: TensorSpec(shape=(), dtype=tf.resource, name=None)\n",
            "  133551094754368: TensorSpec(shape=(), dtype=tf.resource, name=None)\n",
            "  133551093398192: TensorSpec(shape=(), dtype=tf.resource, name=None)\n",
            "  133551093485936: TensorSpec(shape=(), dtype=tf.resource, name=None)\n",
            "  133551093487696: TensorSpec(shape=(), dtype=tf.resource, name=None)\n",
            "  133551093482944: TensorSpec(shape=(), dtype=tf.resource, name=None)\n",
            "  133551093487344: TensorSpec(shape=(), dtype=tf.resource, name=None)\n",
            "  133551093494384: TensorSpec(shape=(), dtype=tf.resource, name=None)\n",
            "  133551093493328: TensorSpec(shape=(), dtype=tf.resource, name=None)\n",
            "  133551093495792: TensorSpec(shape=(), dtype=tf.resource, name=None)\n",
            "  133551093491920: TensorSpec(shape=(), dtype=tf.resource, name=None)\n",
            "  133551093494560: TensorSpec(shape=(), dtype=tf.resource, name=None)\n",
            "  133551093492272: TensorSpec(shape=(), dtype=tf.resource, name=None)\n",
            "  133551093582832: TensorSpec(shape=(), dtype=tf.resource, name=None)\n",
            "  133551093585472: TensorSpec(shape=(), dtype=tf.resource, name=None)\n",
            "  133551093581424: TensorSpec(shape=(), dtype=tf.resource, name=None)\n",
            "  133551093583360: TensorSpec(shape=(), dtype=tf.resource, name=None)\n",
            "  133551093497376: TensorSpec(shape=(), dtype=tf.resource, name=None)\n",
            "  133551093590576: TensorSpec(shape=(), dtype=tf.resource, name=None)\n",
            "  133551093593040: TensorSpec(shape=(), dtype=tf.resource, name=None)\n",
            "  133551093589168: TensorSpec(shape=(), dtype=tf.resource, name=None)\n",
            "  133551093591808: TensorSpec(shape=(), dtype=tf.resource, name=None)\n",
            "  133551093581072: TensorSpec(shape=(), dtype=tf.resource, name=None)\n",
            "  133551093616128: TensorSpec(shape=(), dtype=tf.resource, name=None)\n",
            "  133551093613664: TensorSpec(shape=(), dtype=tf.resource, name=None)\n",
            "  133551093612784: TensorSpec(shape=(), dtype=tf.resource, name=None)\n",
            "  133551093616304: TensorSpec(shape=(), dtype=tf.resource, name=None)\n",
            "  133551093624752: TensorSpec(shape=(), dtype=tf.resource, name=None)\n",
            "  133551093623696: TensorSpec(shape=(), dtype=tf.resource, name=None)\n",
            "  133551093626336: TensorSpec(shape=(), dtype=tf.resource, name=None)\n",
            "  133551093612960: TensorSpec(shape=(), dtype=tf.resource, name=None)\n",
            "  133551093624224: TensorSpec(shape=(), dtype=tf.resource, name=None)\n",
            "  133551093620352: TensorSpec(shape=(), dtype=tf.resource, name=None)\n",
            "  133551093714960: TensorSpec(shape=(), dtype=tf.resource, name=None)\n",
            "  133551093715488: TensorSpec(shape=(), dtype=tf.resource, name=None)\n",
            "  133551093711616: TensorSpec(shape=(), dtype=tf.resource, name=None)\n",
            "  133551093715136: TensorSpec(shape=(), dtype=tf.resource, name=None)\n",
            "  133551093497552: TensorSpec(shape=(), dtype=tf.resource, name=None)\n",
            "  133551093719712: TensorSpec(shape=(), dtype=tf.resource, name=None)\n",
            "  133551093722176: TensorSpec(shape=(), dtype=tf.resource, name=None)\n",
            "  133551093718304: TensorSpec(shape=(), dtype=tf.resource, name=None)\n",
            "  133551093720944: TensorSpec(shape=(), dtype=tf.resource, name=None)\n",
            "  133551093724992: TensorSpec(shape=(), dtype=tf.resource, name=None)\n",
            "  133551093810096: TensorSpec(shape=(), dtype=tf.resource, name=None)\n",
            "  133551093809392: TensorSpec(shape=(), dtype=tf.resource, name=None)\n",
            "  133551093726048: TensorSpec(shape=(), dtype=tf.resource, name=None)\n",
            "  133551093809216: TensorSpec(shape=(), dtype=tf.resource, name=None)\n",
            "  133551093723760: TensorSpec(shape=(), dtype=tf.resource, name=None)\n",
            "  133551093818368: TensorSpec(shape=(), dtype=tf.resource, name=None)\n",
            "  133551093819424: TensorSpec(shape=(), dtype=tf.resource, name=None)\n",
            "  133551093815552: TensorSpec(shape=(), dtype=tf.resource, name=None)\n",
            "  133551093818192: TensorSpec(shape=(), dtype=tf.resource, name=None)\n",
            "  133551093620528: TensorSpec(shape=(), dtype=tf.resource, name=None)\n",
            "  133551093815904: TensorSpec(shape=(), dtype=tf.resource, name=None)\n",
            "  133551093821184: TensorSpec(shape=(), dtype=tf.resource, name=None)\n",
            "  133551093823472: TensorSpec(shape=(), dtype=tf.resource, name=None)\n",
            "  133551074034784: TensorSpec(shape=(), dtype=tf.resource, name=None)\n",
            "  133551093824528: TensorSpec(shape=(), dtype=tf.resource, name=None)\n",
            "  133551074040240: TensorSpec(shape=(), dtype=tf.resource, name=None)\n",
            "  133551074042880: TensorSpec(shape=(), dtype=tf.resource, name=None)\n",
            "  133551074038832: TensorSpec(shape=(), dtype=tf.resource, name=None)\n",
            "  133551074040768: TensorSpec(shape=(), dtype=tf.resource, name=None)\n",
            "  133551074049040: TensorSpec(shape=(), dtype=tf.resource, name=None)\n",
            "  133551074039184: TensorSpec(shape=(), dtype=tf.resource, name=None)\n",
            "  133551074044464: TensorSpec(shape=(), dtype=tf.resource, name=None)\n",
            "  133551074046752: TensorSpec(shape=(), dtype=tf.resource, name=None)\n",
            "  133551074048864: TensorSpec(shape=(), dtype=tf.resource, name=None)\n",
            "  133551093723936: TensorSpec(shape=(), dtype=tf.resource, name=None)\n",
            "  133551074122688: TensorSpec(shape=(), dtype=tf.resource, name=None)\n",
            "  133551074123744: TensorSpec(shape=(), dtype=tf.resource, name=None)\n",
            "  133551074119872: TensorSpec(shape=(), dtype=tf.resource, name=None)\n",
            "  133551074122512: TensorSpec(shape=(), dtype=tf.resource, name=None)\n",
            "  133551074129728: TensorSpec(shape=(), dtype=tf.resource, name=None)\n",
            "  133551074128672: TensorSpec(shape=(), dtype=tf.resource, name=None)\n",
            "  133551074131312: TensorSpec(shape=(), dtype=tf.resource, name=None)\n",
            "  133551074120224: TensorSpec(shape=(), dtype=tf.resource, name=None)\n",
            "  133551074129200: TensorSpec(shape=(), dtype=tf.resource, name=None)\n",
            "  133551074125328: TensorSpec(shape=(), dtype=tf.resource, name=None)\n",
            "  133551074219936: TensorSpec(shape=(), dtype=tf.resource, name=None)\n",
            "  133551074220992: TensorSpec(shape=(), dtype=tf.resource, name=None)\n",
            "  133551074217120: TensorSpec(shape=(), dtype=tf.resource, name=None)\n",
            "  133551074219760: TensorSpec(shape=(), dtype=tf.resource, name=None)\n",
            "  133551074037072: TensorSpec(shape=(), dtype=tf.resource, name=None)\n",
            "  133551074226096: TensorSpec(shape=(), dtype=tf.resource, name=None)\n",
            "  133551074228560: TensorSpec(shape=(), dtype=tf.resource, name=None)\n",
            "  133551074224688: TensorSpec(shape=(), dtype=tf.resource, name=None)\n",
            "  133551074227328: TensorSpec(shape=(), dtype=tf.resource, name=None)\n",
            "  133551074225040: TensorSpec(shape=(), dtype=tf.resource, name=None)\n",
            "  133551074299216: TensorSpec(shape=(), dtype=tf.resource, name=None)\n",
            "  133551074301856: TensorSpec(shape=(), dtype=tf.resource, name=None)\n",
            "  133551074297808: TensorSpec(shape=(), dtype=tf.resource, name=None)\n",
            "  133551074299744: TensorSpec(shape=(), dtype=tf.resource, name=None)\n",
            "  133551074308016: TensorSpec(shape=(), dtype=tf.resource, name=None)\n",
            "  133551074306960: TensorSpec(shape=(), dtype=tf.resource, name=None)\n",
            "  133551074309424: TensorSpec(shape=(), dtype=tf.resource, name=None)\n",
            "  133551074295872: TensorSpec(shape=(), dtype=tf.resource, name=None)\n",
            "  133551074308192: TensorSpec(shape=(), dtype=tf.resource, name=None)\n",
            "  133551074297456: TensorSpec(shape=(), dtype=tf.resource, name=None)\n",
            "  133551074363872: TensorSpec(shape=(), dtype=tf.resource, name=None)\n",
            "  133551074361936: TensorSpec(shape=(), dtype=tf.resource, name=None)\n",
            "  133551074361584: TensorSpec(shape=(), dtype=tf.resource, name=None)\n",
            "  133551074364048: TensorSpec(shape=(), dtype=tf.resource, name=None)\n",
            "  133551074370912: TensorSpec(shape=(), dtype=tf.resource, name=None)\n",
            "  133551074369856: TensorSpec(shape=(), dtype=tf.resource, name=None)\n",
            "  133551074372496: TensorSpec(shape=(), dtype=tf.resource, name=None)\n",
            "  133551074363520: TensorSpec(shape=(), dtype=tf.resource, name=None)\n",
            "  133551074370384: TensorSpec(shape=(), dtype=tf.resource, name=None)\n",
            "  133551074375488: TensorSpec(shape=(), dtype=tf.resource, name=None)\n",
            "  133551074411968: TensorSpec(shape=(), dtype=tf.resource, name=None)\n",
            "  133551074410736: TensorSpec(shape=(), dtype=tf.resource, name=None)\n",
            "  133551074376544: TensorSpec(shape=(), dtype=tf.resource, name=None)\n",
            "  133551074410560: TensorSpec(shape=(), dtype=tf.resource, name=None)\n",
            "  133551074296048: TensorSpec(shape=(), dtype=tf.resource, name=None)\n",
            "  133551074419536: TensorSpec(shape=(), dtype=tf.resource, name=None)\n",
            "  133551074420592: TensorSpec(shape=(), dtype=tf.resource, name=None)\n",
            "  133551074416720: TensorSpec(shape=(), dtype=tf.resource, name=None)\n",
            "  133551074419360: TensorSpec(shape=(), dtype=tf.resource, name=None)\n",
            "  133551074426576: TensorSpec(shape=(), dtype=tf.resource, name=None)\n",
            "  133551074423056: TensorSpec(shape=(), dtype=tf.resource, name=None)\n",
            "  133551074422704: TensorSpec(shape=(), dtype=tf.resource, name=None)\n",
            "  133551074423760: TensorSpec(shape=(), dtype=tf.resource, name=None)\n",
            "  133551074425344: TensorSpec(shape=(), dtype=tf.resource, name=None)\n",
            "  133551074422176: TensorSpec(shape=(), dtype=tf.resource, name=None)\n",
            "  133551074533168: TensorSpec(shape=(), dtype=tf.resource, name=None)\n",
            "  133551074534224: TensorSpec(shape=(), dtype=tf.resource, name=None)\n",
            "  133551074530352: TensorSpec(shape=(), dtype=tf.resource, name=None)\n",
            "  133551074532992: TensorSpec(shape=(), dtype=tf.resource, name=None)\n",
            "  133551074366688: TensorSpec(shape=(), dtype=tf.resource, name=None)\n",
            "  133551074539328: TensorSpec(shape=(), dtype=tf.resource, name=None)\n",
            "  133551074535808: TensorSpec(shape=(), dtype=tf.resource, name=None)\n",
            "  133551074537920: TensorSpec(shape=(), dtype=tf.resource, name=None)\n",
            "  133551074540560: TensorSpec(shape=(), dtype=tf.resource, name=None)\n",
            "  133551074578976: TensorSpec(shape=(), dtype=tf.resource, name=None)\n",
            "  133551093927776: TensorSpec(shape=(), dtype=tf.resource, name=None)\n",
            "  133551093313456: TensorSpec(shape=(), dtype=tf.resource, name=None)\n",
            "  133551074673232: TensorSpec(shape=(), dtype=tf.resource, name=None)\n",
            "  133551074536160: TensorSpec(shape=(), dtype=tf.resource, name=None)\n",
            "  133551074583200: TensorSpec(shape=(), dtype=tf.resource, name=None)\n",
            "  133551074581616: TensorSpec(shape=(), dtype=tf.resource, name=None)\n",
            "  133551074584784: TensorSpec(shape=(), dtype=tf.resource, name=None)\n",
            "  133551074578096: TensorSpec(shape=(), dtype=tf.resource, name=None)\n",
            "  133551074583024: TensorSpec(shape=(), dtype=tf.resource, name=None)\n",
            "  133551074679920: TensorSpec(shape=(), dtype=tf.resource, name=None)\n",
            "  133551074680272: TensorSpec(shape=(), dtype=tf.resource, name=None)\n",
            "  133551074681504: TensorSpec(shape=(), dtype=tf.resource, name=None)\n",
            "  133551074672880: TensorSpec(shape=(), dtype=tf.resource, name=None)\n",
            "  133551074680096: TensorSpec(shape=(), dtype=tf.resource, name=None)\n",
            "  133551074687488: TensorSpec(shape=(), dtype=tf.resource, name=None)\n",
            "  133551074686432: TensorSpec(shape=(), dtype=tf.resource, name=None)\n",
            "  133551074683616: TensorSpec(shape=(), dtype=tf.resource, name=None)\n",
            "  133551074677808: TensorSpec(shape=(), dtype=tf.resource, name=None)\n",
            "  133551074686960: TensorSpec(shape=(), dtype=tf.resource, name=None)\n",
            "  133551074683088: TensorSpec(shape=(), dtype=tf.resource, name=None)\n",
            "  133551074744928: TensorSpec(shape=(), dtype=tf.resource, name=None)\n",
            "  133551074745984: TensorSpec(shape=(), dtype=tf.resource, name=None)\n",
            "  133551074742112: TensorSpec(shape=(), dtype=tf.resource, name=None)\n",
            "  133551074744752: TensorSpec(shape=(), dtype=tf.resource, name=None)\n",
            "  133551074673584: TensorSpec(shape=(), dtype=tf.resource, name=None)\n",
            "  133551074751088: TensorSpec(shape=(), dtype=tf.resource, name=None)\n",
            "  133551074753552: TensorSpec(shape=(), dtype=tf.resource, name=None)\n",
            "  133551074749680: TensorSpec(shape=(), dtype=tf.resource, name=None)\n",
            "  133551074752320: TensorSpec(shape=(), dtype=tf.resource, name=None)\n",
            "  133551074750032: TensorSpec(shape=(), dtype=tf.resource, name=None)\n",
            "  133551074840592: TensorSpec(shape=(), dtype=tf.resource, name=None)\n",
            "  133551074843232: TensorSpec(shape=(), dtype=tf.resource, name=None)\n",
            "  133551074839184: TensorSpec(shape=(), dtype=tf.resource, name=None)\n",
            "  133551074841120: TensorSpec(shape=(), dtype=tf.resource, name=None)\n",
            "  133551074849392: TensorSpec(shape=(), dtype=tf.resource, name=None)\n",
            "  133551074848336: TensorSpec(shape=(), dtype=tf.resource, name=None)\n",
            "  133551074850800: TensorSpec(shape=(), dtype=tf.resource, name=None)\n",
            "  133551074837248: TensorSpec(shape=(), dtype=tf.resource, name=None)\n",
            "  133551074849568: TensorSpec(shape=(), dtype=tf.resource, name=None)\n",
            "  133551074683264: TensorSpec(shape=(), dtype=tf.resource, name=None)\n",
            "  133551074923040: TensorSpec(shape=(), dtype=tf.resource, name=None)\n",
            "  133551074922688: TensorSpec(shape=(), dtype=tf.resource, name=None)\n",
            "  133551074920224: TensorSpec(shape=(), dtype=tf.resource, name=None)\n",
            "  133551074922864: TensorSpec(shape=(), dtype=tf.resource, name=None)\n",
            "  133551074930080: TensorSpec(shape=(), dtype=tf.resource, name=None)\n",
            "  133551074929024: TensorSpec(shape=(), dtype=tf.resource, name=None)\n",
            "  133551074931664: TensorSpec(shape=(), dtype=tf.resource, name=None)\n",
            "  133551074920576: TensorSpec(shape=(), dtype=tf.resource, name=None)\n",
            "  133551074929552: TensorSpec(shape=(), dtype=tf.resource, name=None)\n",
            "  133551074925680: TensorSpec(shape=(), dtype=tf.resource, name=None)\n",
            "  133551074987520: TensorSpec(shape=(), dtype=tf.resource, name=None)\n",
            "  133551074985056: TensorSpec(shape=(), dtype=tf.resource, name=None)\n",
            "  133551074984176: TensorSpec(shape=(), dtype=tf.resource, name=None)\n",
            "  133551074987696: TensorSpec(shape=(), dtype=tf.resource, name=None)\n",
            "  133551074837424: TensorSpec(shape=(), dtype=tf.resource, name=None)\n",
            "  133551074992448: TensorSpec(shape=(), dtype=tf.resource, name=None)\n",
            "  133551074994912: TensorSpec(shape=(), dtype=tf.resource, name=None)\n",
            "  133551074991040: TensorSpec(shape=(), dtype=tf.resource, name=None)\n",
            "  133551074993680: TensorSpec(shape=(), dtype=tf.resource, name=None)\n",
            "  133551073188800: TensorSpec(shape=(), dtype=tf.resource, name=None)\n",
            "  133551073189328: TensorSpec(shape=(), dtype=tf.resource, name=None)\n",
            "  133551073186864: TensorSpec(shape=(), dtype=tf.resource, name=None)\n",
            "  133551073188096: TensorSpec(shape=(), dtype=tf.resource, name=None)\n",
            "  133551073194080: TensorSpec(shape=(), dtype=tf.resource, name=None)\n",
            "  133551073363040: TensorSpec(shape=(), dtype=tf.resource, name=None)\n",
            "  133551073373776: TensorSpec(shape=(), dtype=tf.resource, name=None)\n",
            "  133551073375536: TensorSpec(shape=(), dtype=tf.resource, name=None)\n",
            "  133551073373072: TensorSpec(shape=(), dtype=tf.resource, name=None)\n",
            "  133551073374304: TensorSpec(shape=(), dtype=tf.resource, name=None)\n",
            "  133551073377648: TensorSpec(shape=(), dtype=tf.resource, name=None)\n",
            "  133551073510496: TensorSpec(shape=(), dtype=tf.resource, name=None)\n",
            "Model has been converted to TFLite and saved as 'modelJamurTflite.tflite'\n"
          ]
        }
      ],
      "source": [
        "converter = tf.lite.TFLiteConverter.from_keras_model(model)\n",
        "tflite_model = converter.convert()\n",
        "\n",
        "with open('modelLovenBaru.tflite', 'wb') as f:\n",
        "    f.write(tflite_model)\n",
        "\n",
        "print(\"Model has been converted to TFLite and saved as 'model.tflite'\")"
      ]
    },
    {
      "cell_type": "code",
      "execution_count": 32,
      "metadata": {
        "colab": {
          "base_uri": "https://localhost:8080/"
        },
        "id": "bzv_nTekKs_S",
        "outputId": "86dc9bab-8c19-436f-c673-64a5c187d62c"
      },
      "outputs": [
        {
          "output_type": "stream",
          "name": "stdout",
          "text": [
            "\u001b[1m1/1\u001b[0m \u001b[32m━━━━━━━━━━━━━━━━━━━━\u001b[0m\u001b[37m\u001b[0m \u001b[1m0s\u001b[0m 199ms/step\n"
          ]
        },
        {
          "output_type": "stream",
          "name": "stderr",
          "text": [
            "WARNING:absl:You are saving your model as an HDF5 file via `model.save()` or `keras.saving.save_model(model)`. This file format is considered legacy. We recommend using instead the native Keras format, e.g. `model.save('my_model.keras')` or `keras.saving.save_model(model, 'my_model.keras')`. \n"
          ]
        },
        {
          "output_type": "stream",
          "name": "stdout",
          "text": [
            "Predicted Class: Mycena leaiana\n",
            "Prediction Accuracy: 99.89%\n"
          ]
        }
      ],
      "source": [
        "img_path = '/content/Mycena leaiana_256.jpg'\n",
        "img = image.load_img(img_path, target_size=(224, 224))\n",
        "img_array = image.img_to_array(img)\n",
        "img_array = np.expand_dims(img_array, axis=0)\n",
        "img_array /= 255.0\n",
        "\n",
        "# Define class labels\n",
        "labels = [\n",
        "    'Amanita phalloides',\n",
        "    'Coprinopsis lagopus',\n",
        "    'Jamur Barat',\n",
        "    'Jamur Merang',\n",
        "    'Jamur Tiram',\n",
        "    'Leucoagaricus leucothites',\n",
        "    'Mycena leaiana',\n",
        "    'Schizophyllum commune',\n",
        "    'jamur Lentinus Squarrosulus',\n",
        "    'jamur kuping'\n",
        "]\n",
        "\n",
        "# Make a prediction\n",
        "prediction = model.predict(img_array)\n",
        "index = np.argmax(prediction)\n",
        "class_names = labels[index]\n",
        "\n",
        "# Print prediction results\n",
        "accuracy = np.max(prediction) * 100\n",
        "predicted_class = class_names\n",
        "print(f\"Predicted Class: {predicted_class}\")\n",
        "print(f\"Prediction Accuracy: {accuracy:.2f}%\")\n",
        "\n",
        "# Save the model\n",
        "model.save(\"model.h5\")\n",
        "\n",
        "# # Evaluate the model on the validation set\n",
        "# val_predictions = model.predict(validation_images)\n",
        "# val_predictions_classes = np.argmax(val_predictions, axis=1)\n",
        "# val_true_classes = np.argmax(validation_labels, axis=1)\n",
        "\n",
        "# # Print evaluation metrics\n",
        "# print(\"Accuracy: \", accuracy_score(val_true_classes, val_predictions_classes))\n",
        "# print(\"Classification Report:\\n\", classification_report(val_true_classes, val_predictions_classes, target_names=labels))\n",
        "# print(\"Confusion Matrix:\\n\", confusion_matrix(val_true_classes, val_predictions_classes))\n",
        "\n",
        "# # Visualize the confusion matrix\n",
        "# conf_matrix = confusion_matrix(val_true_classes, val_predictions_classes)\n",
        "# plt.figure(figsize=(10, 8))\n",
        "# sns.heatmap(conf_matrix, annot=True, fmt='d', cmap='Blues', xticklabels=labels, yticklabels=labels)\n",
        "# plt.xlabel('Predicted')\n",
        "# plt.ylabel('Actual')\n",
        "# plt.title('Confusion Matrix')\n",
        "# plt.show()"
      ]
    }
  ],
  "metadata": {
    "colab": {
      "provenance": [],
      "include_colab_link": true
    },
    "kernelspec": {
      "display_name": "Python 3",
      "name": "python3"
    },
    "language_info": {
      "codemirror_mode": {
        "name": "ipython",
        "version": 3
      },
      "file_extension": ".py",
      "mimetype": "text/x-python",
      "name": "python",
      "nbconvert_exporter": "python",
      "pygments_lexer": "ipython3",
      "version": "3.8.18"
    }
  },
  "nbformat": 4,
  "nbformat_minor": 0
}